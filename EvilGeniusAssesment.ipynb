{
  "nbformat": 4,
  "nbformat_minor": 0,
  "metadata": {
    "colab": {
      "provenance": []
    },
    "kernelspec": {
      "name": "python3",
      "display_name": "Python 3"
    },
    "language_info": {
      "name": "python"
    }
  },
  "cells": [
    {
      "cell_type": "markdown",
      "source": [
        "**Basic EDA of Data**"
      ],
      "metadata": {
        "id": "I4WuuWCkY9zz"
      }
    },
    {
      "cell_type": "markdown",
      "source": [
        "Begin by importing the packages required for basic EDA analysis, as well as mounting data file location (Google Drive) to notebook. "
      ],
      "metadata": {
        "id": "c3_HctMb8ySj"
      }
    },
    {
      "cell_type": "code",
      "execution_count": 1,
      "metadata": {
        "colab": {
          "base_uri": "https://localhost:8080/"
        },
        "id": "dvH98CaGIdBS",
        "outputId": "88edb736-76e2-4fb6-901f-f16652b2d34a"
      },
      "outputs": [
        {
          "output_type": "stream",
          "name": "stdout",
          "text": [
            "Mounted at /content/gdrive\n"
          ]
        }
      ],
      "source": [
        "import pandas as pd\n",
        "import matplotlib.pyplot as plt\n",
        "import seaborn as sns\n",
        "from google.colab import drive\n",
        "drive.mount('/content/gdrive')"
      ]
    },
    {
      "cell_type": "markdown",
      "source": [
        "Read the provided starcraft player data .csv file into a pandas dataframe that will be used for analysis throughout the model development process. Output a few rows of the dataframe (.head()) and add an additional column (Rank), that ranks each row beginning from 1 to the total number of the rows in the frame."
      ],
      "metadata": {
        "id": "4mCeO3U69GW7"
      }
    },
    {
      "cell_type": "code",
      "source": [
        "starcraftdata = pd.read_csv('/content/gdrive/MyDrive/Colab Notebooks/starcraft_player_data.csv')\n",
        "starcraftdata['Rank'] = range(1, len(starcraftdata) + 1)\n",
        "print(starcraftdata.head())"
      ],
      "metadata": {
        "colab": {
          "base_uri": "https://localhost:8080/"
        },
        "id": "ZYHvMcYMIqq1",
        "outputId": "b54c1213-05c5-43cd-96b6-582f4a831672"
      },
      "execution_count": 2,
      "outputs": [
        {
          "output_type": "stream",
          "name": "stdout",
          "text": [
            "   GameID  LeagueIndex Age HoursPerWeek TotalHours       APM  SelectByHotkeys  \\\n",
            "0      52            5  27           10       3000  143.7180         0.003515   \n",
            "1      55            5  23           10       5000  129.2322         0.003304   \n",
            "2      56            4  30           10        200   69.9612         0.001101   \n",
            "3      57            3  19           20        400  107.6016         0.001034   \n",
            "4      58            3  32           10        500  122.8908         0.001136   \n",
            "\n",
            "   AssignToHotkeys  UniqueHotkeys  MinimapAttacks  ...  NumberOfPACs  \\\n",
            "0         0.000220              7        0.000110  ...      0.004849   \n",
            "1         0.000259              4        0.000294  ...      0.004307   \n",
            "2         0.000336              4        0.000294  ...      0.002926   \n",
            "3         0.000213              1        0.000053  ...      0.003783   \n",
            "4         0.000327              2        0.000000  ...      0.002368   \n",
            "\n",
            "   GapBetweenPACs  ActionLatency  ActionsInPAC  TotalMapExplored  WorkersMade  \\\n",
            "0         32.6677        40.8673        4.7508                28     0.001397   \n",
            "1         32.9194        42.3454        4.8434                22     0.001193   \n",
            "2         44.6475        75.3548        4.0430                22     0.000745   \n",
            "3         29.2203        53.7352        4.9155                19     0.000426   \n",
            "4         22.6885        62.0813        9.3740                15     0.001174   \n",
            "\n",
            "   UniqueUnitsMade  ComplexUnitsMade  ComplexAbilitiesUsed  Rank  \n",
            "0                6               0.0              0.000000     1  \n",
            "1                5               0.0              0.000208     2  \n",
            "2                6               0.0              0.000189     3  \n",
            "3                7               0.0              0.000384     4  \n",
            "4                4               0.0              0.000019     5  \n",
            "\n",
            "[5 rows x 21 columns]\n"
          ]
        }
      ]
    },
    {
      "cell_type": "markdown",
      "source": [
        "Use the (.shape) function to output the size of the dataframe that will be considered."
      ],
      "metadata": {
        "id": "uu3_xhN59pnB"
      }
    },
    {
      "cell_type": "code",
      "source": [
        "print(starcraftdata.shape)"
      ],
      "metadata": {
        "colab": {
          "base_uri": "https://localhost:8080/"
        },
        "id": "IlfjkssWLn_s",
        "outputId": "8781c9bf-1300-4d02-bfa8-24fd49370167"
      },
      "execution_count": 3,
      "outputs": [
        {
          "output_type": "stream",
          "name": "stdout",
          "text": [
            "(3395, 21)\n"
          ]
        }
      ]
    },
    {
      "cell_type": "markdown",
      "source": [
        "Use the (.dtypes) function to output the data type of each variable (column header) that is listed in the dataframe."
      ],
      "metadata": {
        "id": "XwqPcx8T9w-7"
      }
    },
    {
      "cell_type": "code",
      "source": [
        "print(starcraftdata.dtypes)"
      ],
      "metadata": {
        "colab": {
          "base_uri": "https://localhost:8080/"
        },
        "id": "AT_qMdCxMLTw",
        "outputId": "f3b877ec-0cb0-4622-a8ea-d0a4fc1a8317"
      },
      "execution_count": 4,
      "outputs": [
        {
          "output_type": "stream",
          "name": "stdout",
          "text": [
            "GameID                    int64\n",
            "LeagueIndex               int64\n",
            "Age                      object\n",
            "HoursPerWeek             object\n",
            "TotalHours               object\n",
            "APM                     float64\n",
            "SelectByHotkeys         float64\n",
            "AssignToHotkeys         float64\n",
            "UniqueHotkeys             int64\n",
            "MinimapAttacks          float64\n",
            "MinimapRightClicks      float64\n",
            "NumberOfPACs            float64\n",
            "GapBetweenPACs          float64\n",
            "ActionLatency           float64\n",
            "ActionsInPAC            float64\n",
            "TotalMapExplored          int64\n",
            "WorkersMade             float64\n",
            "UniqueUnitsMade           int64\n",
            "ComplexUnitsMade        float64\n",
            "ComplexAbilitiesUsed    float64\n",
            "Rank                      int64\n",
            "dtype: object\n"
          ]
        }
      ]
    },
    {
      "cell_type": "markdown",
      "source": [
        "Use the (.isnull()) and (.sum()) functions to output the total number of null entries that may exist in each column."
      ],
      "metadata": {
        "id": "sodxw93g-FSy"
      }
    },
    {
      "cell_type": "code",
      "source": [
        "print(starcraftdata.isnull().sum())"
      ],
      "metadata": {
        "colab": {
          "base_uri": "https://localhost:8080/"
        },
        "id": "XNpied9hMVjz",
        "outputId": "80298029-1eb8-4bca-cf79-e42830612579"
      },
      "execution_count": 5,
      "outputs": [
        {
          "output_type": "stream",
          "name": "stdout",
          "text": [
            "GameID                  0\n",
            "LeagueIndex             0\n",
            "Age                     0\n",
            "HoursPerWeek            0\n",
            "TotalHours              0\n",
            "APM                     0\n",
            "SelectByHotkeys         0\n",
            "AssignToHotkeys         0\n",
            "UniqueHotkeys           0\n",
            "MinimapAttacks          0\n",
            "MinimapRightClicks      0\n",
            "NumberOfPACs            0\n",
            "GapBetweenPACs          0\n",
            "ActionLatency           0\n",
            "ActionsInPAC            0\n",
            "TotalMapExplored        0\n",
            "WorkersMade             0\n",
            "UniqueUnitsMade         0\n",
            "ComplexUnitsMade        0\n",
            "ComplexAbilitiesUsed    0\n",
            "Rank                    0\n",
            "dtype: int64\n"
          ]
        }
      ]
    },
    {
      "cell_type": "markdown",
      "source": [
        "Use the (.describe()) function to output some basic statistical metrics of each variable in the dataframe. These metrics include the total number, mean, standard deviation, minimum, 25% quartile, 50% quartile, 75% quartile, and the maximum value."
      ],
      "metadata": {
        "id": "tVVQLiYb-TfI"
      }
    },
    {
      "cell_type": "code",
      "source": [
        "print(starcraftdata.describe())"
      ],
      "metadata": {
        "colab": {
          "base_uri": "https://localhost:8080/"
        },
        "id": "FbHuRauYMZzT",
        "outputId": "617eb938-3199-4dc7-ff8c-e1e31a3f5efa"
      },
      "execution_count": 6,
      "outputs": [
        {
          "output_type": "stream",
          "name": "stdout",
          "text": [
            "             GameID  LeagueIndex          APM  SelectByHotkeys  \\\n",
            "count   3395.000000  3395.000000  3395.000000      3395.000000   \n",
            "mean    4805.012371     4.184094   117.046947         0.004299   \n",
            "std     2719.944851     1.517327    51.945291         0.005284   \n",
            "min       52.000000     1.000000    22.059600         0.000000   \n",
            "25%     2464.500000     3.000000    79.900200         0.001258   \n",
            "50%     4874.000000     4.000000   108.010200         0.002500   \n",
            "75%     7108.500000     5.000000   142.790400         0.005133   \n",
            "max    10095.000000     8.000000   389.831400         0.043088   \n",
            "\n",
            "       AssignToHotkeys  UniqueHotkeys  MinimapAttacks  MinimapRightClicks  \\\n",
            "count      3395.000000    3395.000000     3395.000000         3395.000000   \n",
            "mean          0.000374       4.364654        0.000098            0.000387   \n",
            "std           0.000225       2.360333        0.000166            0.000377   \n",
            "min           0.000000       0.000000        0.000000            0.000000   \n",
            "25%           0.000204       3.000000        0.000000            0.000140   \n",
            "50%           0.000353       4.000000        0.000040            0.000281   \n",
            "75%           0.000499       6.000000        0.000119            0.000514   \n",
            "max           0.001752      10.000000        0.003019            0.004041   \n",
            "\n",
            "       NumberOfPACs  GapBetweenPACs  ActionLatency  ActionsInPAC  \\\n",
            "count   3395.000000     3395.000000    3395.000000   3395.000000   \n",
            "mean       0.003463       40.361562      63.739403      5.272988   \n",
            "std        0.000992       17.153570      19.238869      1.494835   \n",
            "min        0.000679        6.666700      24.093600      2.038900   \n",
            "25%        0.002754       28.957750      50.446600      4.272850   \n",
            "50%        0.003395       36.723500      60.931800      5.095500   \n",
            "75%        0.004027       48.290500      73.681300      6.033600   \n",
            "max        0.007971      237.142900     176.372100     18.558100   \n",
            "\n",
            "       TotalMapExplored  WorkersMade  UniqueUnitsMade  ComplexUnitsMade  \\\n",
            "count       3395.000000  3395.000000      3395.000000       3395.000000   \n",
            "mean          22.131664     0.001032         6.534021          0.000059   \n",
            "std            7.431719     0.000519         1.857697          0.000111   \n",
            "min            5.000000     0.000077         2.000000          0.000000   \n",
            "25%           17.000000     0.000683         5.000000          0.000000   \n",
            "50%           22.000000     0.000905         6.000000          0.000000   \n",
            "75%           27.000000     0.001259         8.000000          0.000086   \n",
            "max           58.000000     0.005149        13.000000          0.000902   \n",
            "\n",
            "       ComplexAbilitiesUsed         Rank  \n",
            "count           3395.000000  3395.000000  \n",
            "mean               0.000142  1698.000000  \n",
            "std                0.000265   980.196409  \n",
            "min                0.000000     1.000000  \n",
            "25%                0.000000   849.500000  \n",
            "50%                0.000020  1698.000000  \n",
            "75%                0.000181  2546.500000  \n",
            "max                0.003084  3395.000000  \n"
          ]
        }
      ]
    },
    {
      "cell_type": "markdown",
      "source": [
        "The basic EDA provides interesting information about the relevance of the variables, the size of the data that is being considered, as well as the existence of any entries that may cause obstacles in further analysis."
      ],
      "metadata": {
        "id": "l8ylF_X4-xQF"
      }
    },
    {
      "cell_type": "markdown",
      "source": [
        "**PCA Analysis**"
      ],
      "metadata": {
        "id": "Pn6UcKCjZKIm"
      }
    },
    {
      "cell_type": "markdown",
      "source": [
        "Begin by importing the necessary packages to perform Principle Component Analysis (PCA)."
      ],
      "metadata": {
        "id": "wU_cT31__IHM"
      }
    },
    {
      "cell_type": "code",
      "source": [
        "from sklearn.decomposition import PCA\n",
        "from sklearn.preprocessing import StandardScaler\n",
        "import numpy as np"
      ],
      "metadata": {
        "id": "fwgKdj8vZM41"
      },
      "execution_count": 7,
      "outputs": []
    },
    {
      "cell_type": "markdown",
      "source": [
        "Modify the original dataframe by first removing the target variable (Rank), which is to be predicted, and eliminate rows that include placeholder symbols (in the case of this data the placeholders were marked with \"?\"). The resulting dataframe includes only the predictor variables, as well as all entries containing meaningful data."
      ],
      "metadata": {
        "id": "icS4ItOZ_PNJ"
      }
    },
    {
      "cell_type": "code",
      "source": [
        "starcraftdata = starcraftdata.drop('Rank', axis = 1)\n",
        "starcraftdata.loc[starcraftdata[\"Age\"] == '?']\n",
        "starcraftdata = starcraftdata.drop(starcraftdata.index[3340:3395])\n",
        "starcraftdata.loc[starcraftdata[\"HoursPerWeek\"] == '?']\n",
        "starcraftdata = starcraftdata.drop(starcraftdata.index[1841])\n",
        "starcraftdata.loc[starcraftdata[\"TotalHours\"] == '?']\n",
        "starcraftdata = starcraftdata.drop(starcraftdata.index[358])"
      ],
      "metadata": {
        "id": "GvZSTdibZWk3"
      },
      "execution_count": 8,
      "outputs": []
    },
    {
      "cell_type": "markdown",
      "source": [
        "Prior to performing PCA analysis, the dataframe must be standardized. This is achieved through use of the StandardScaler() function, which normalizes all data to a unit center. Create a new dataframe that contains the scaled version of the original dataframe."
      ],
      "metadata": {
        "id": "r5NptyEM_ya4"
      }
    },
    {
      "cell_type": "code",
      "source": [
        "scaler = StandardScaler()\n",
        "starcraftdata_scaled = scaler.fit_transform(starcraftdata)"
      ],
      "metadata": {
        "id": "h_5RyiqdZt5l"
      },
      "execution_count": 9,
      "outputs": []
    },
    {
      "cell_type": "markdown",
      "source": [
        "Next, implement the (PCA()) function that has subsidiary functions (.fit()), and (.explained_variance_ratio), which are used to calculate the influence of each predictor variable on the overall variance within the data. The array of 20 elements is outputted, with each element corresponding to the variance attributed to each respective predictor variable)."
      ],
      "metadata": {
        "id": "PtreeA5rAFrf"
      }
    },
    {
      "cell_type": "code",
      "source": [
        "pca = PCA()\n",
        "pca.fit(starcraftdata_scaled)\n",
        "explained_variance_ratio = pca.explained_variance_ratio_\n",
        "print(explained_variance_ratio)"
      ],
      "metadata": {
        "colab": {
          "base_uri": "https://localhost:8080/"
        },
        "id": "4sqTC4KZpL--",
        "outputId": "b7baf825-092e-402e-fd31-a410c19826e4"
      },
      "execution_count": 10,
      "outputs": [
        {
          "output_type": "stream",
          "name": "stdout",
          "text": [
            "[0.2681407  0.10402508 0.07600433 0.06518002 0.05474952 0.0508213\n",
            " 0.04969031 0.04556647 0.04246669 0.03836914 0.03654652 0.03557084\n",
            " 0.02971479 0.02558101 0.02112286 0.01965001 0.01780703 0.0126635\n",
            " 0.00553978 0.00079011]\n"
          ]
        }
      ]
    },
    {
      "cell_type": "markdown",
      "source": [
        "Following this, implement the (.cumsum()) function that is a subsidiary of (np()), to output an array of the cumulative variance influences across the 20 predictor variables. Note that the final element should be the cumulative sum of all 20 predictor variables, and thus should sum to 1, which is what occurs in the provided output."
      ],
      "metadata": {
        "id": "9ty8CgqfAw_y"
      }
    },
    {
      "cell_type": "code",
      "source": [
        "cumulative_variance_ratio = np.cumsum(explained_variance_ratio)\n",
        "print(cumulative_variance_ratio)"
      ],
      "metadata": {
        "colab": {
          "base_uri": "https://localhost:8080/"
        },
        "id": "UGdoCrIEpf82",
        "outputId": "3ed4b864-57a0-4db6-9979-609a43785b41"
      },
      "execution_count": 11,
      "outputs": [
        {
          "output_type": "stream",
          "name": "stdout",
          "text": [
            "[0.2681407  0.37216578 0.44817011 0.51335013 0.56809966 0.61892095\n",
            " 0.66861126 0.71417773 0.75664442 0.79501355 0.83156008 0.86713091\n",
            " 0.8968457  0.92242671 0.94354958 0.96319958 0.98100661 0.99367011\n",
            " 0.99920989 1.        ]\n"
          ]
        }
      ]
    },
    {
      "cell_type": "markdown",
      "source": [
        "Finally, set an arbitrary variance treshold (in this case 0.95), to effectively choose a subset of the twenty predictor variables that have a cumulative sum greater than or equal to this threshold. Output this number of variables, which for this dataframe results in 16 predictor variables."
      ],
      "metadata": {
        "id": "FIRmQdlKBKhK"
      }
    },
    {
      "cell_type": "code",
      "source": [
        "d_var = 0.95\n",
        "ncomp = np.argmax(cumulative_variance_ratio >= d_var) + 1\n",
        "print('Number of components for', d_var, 'variance:', ncomp)\n"
      ],
      "metadata": {
        "colab": {
          "base_uri": "https://localhost:8080/"
        },
        "id": "6Acau6qYpuWJ",
        "outputId": "9c5ea382-d148-4fc0-c7e5-411952f56413"
      },
      "execution_count": 12,
      "outputs": [
        {
          "output_type": "stream",
          "name": "stdout",
          "text": [
            "Number of components for 0.95 variance: 16\n"
          ]
        }
      ]
    },
    {
      "cell_type": "markdown",
      "source": [
        "From here, set up a modified pca function that utilizes the ( fit_transform) subset function to standardize the original starcraft data.  "
      ],
      "metadata": {
        "id": "ZZWhVTCgCCDN"
      }
    },
    {
      "cell_type": "code",
      "source": [
        "pca = PCA(n_components = ncomp)\n",
        "starcraftdata_pca = pca.fit_transform(starcraftdata_scaled)"
      ],
      "metadata": {
        "id": "0Lr_sJo_qEyH"
      },
      "execution_count": 13,
      "outputs": []
    },
    {
      "cell_type": "markdown",
      "source": [
        "Output a new dataframe that merges the (Rank) column with the PCA values for each predictor variable, which explains the effect of each predictor variable against the (Rank) variable. Negative values imply an inverse influence and positive values imply a positive influence"
      ],
      "metadata": {
        "id": "VN7RIPgSDgv8"
      }
    },
    {
      "cell_type": "code",
      "source": [
        "Fstarcraftdata_pca = pd.DataFrame(starcraftdata_pca, columns = ['PC{}'.format(index+1) for index in range(ncomp)])\n",
        "starcraftdata['Rank'] = range(1, len(starcraftdata) + 1)\n",
        "Fstarcraftdata_pca['Rank'] = starcraftdata['Rank']\n",
        "print(Fstarcraftdata_pca.head())"
      ],
      "metadata": {
        "colab": {
          "base_uri": "https://localhost:8080/"
        },
        "id": "ynV4lCw8qWbF",
        "outputId": "dde51470-e6e6-4417-bb06-4cb68498a049"
      },
      "execution_count": 14,
      "outputs": [
        {
          "output_type": "stream",
          "name": "stdout",
          "text": [
            "        PC1       PC2       PC3       PC4       PC5       PC6       PC7  \\\n",
            "0 -1.367399  0.065509 -1.091530  0.683940 -1.708485  0.015044  0.699964   \n",
            "1 -0.875761 -0.480408 -0.308420 -0.019047 -1.724508  0.473142  0.295320   \n",
            "2  1.458295  0.539214  0.009914  1.362794 -0.922718  1.079815 -0.403896   \n",
            "3  0.616584  0.186633  0.169897 -1.505770 -1.536069  0.619311 -0.103235   \n",
            "4  0.911153 -2.516123  3.097753  1.309652 -1.429230 -0.039441  0.749894   \n",
            "\n",
            "        PC8       PC9      PC10      PC11      PC12      PC13      PC14  \\\n",
            "0 -1.620309  0.024300  0.915690 -0.692253 -0.105326 -0.190967 -1.332451   \n",
            "1 -1.228490  1.251969  0.130006  0.286941 -0.438242  0.364688 -0.978566   \n",
            "2 -1.763668  1.218871  0.557282 -0.276248 -0.421970  0.599433 -0.086854   \n",
            "3  0.144190  1.035109 -0.637236 -1.247003 -1.023399  0.137811  0.044767   \n",
            "4 -1.335033  0.157365  0.551743 -2.562749 -0.705325  0.596034  0.410790   \n",
            "\n",
            "       PC15      PC16  Rank  \n",
            "0  0.623490 -0.157228   1.0  \n",
            "1  0.490774 -0.249074   2.0  \n",
            "2  0.222278 -0.147337   3.0  \n",
            "3 -0.174699 -0.887457   4.0  \n",
            "4  0.697699 -0.601463   5.0  \n"
          ]
        }
      ]
    },
    {
      "cell_type": "markdown",
      "source": [
        "Produce a scree plot of the explained variance ratio against the predictor variables, which visualizes the trend and effect of each variable on the target variable."
      ],
      "metadata": {
        "id": "DD2SToE8EWLn"
      }
    },
    {
      "cell_type": "code",
      "source": [
        "plt.plot(range(1, len(explained_variance_ratio) + 1), explained_variance_ratio, 'bo-')\n",
        "plt.xlabel('Principal Component')\n",
        "plt.ylabel('Explained Variance Ratio')\n",
        "plt.title('Scree Plot')\n",
        "plt.xticks(range(1, len(explained_variance_ratio) + 1))\n",
        "plt.show()"
      ],
      "metadata": {
        "colab": {
          "base_uri": "https://localhost:8080/",
          "height": 472
        },
        "id": "-_4amDYSvauN",
        "outputId": "c66d4d4a-cd5e-4608-fc5b-78a56ed664fd"
      },
      "execution_count": 15,
      "outputs": [
        {
          "output_type": "display_data",
          "data": {
            "text/plain": [
              "<Figure size 640x480 with 1 Axes>"
            ],
            "image/png": "[encoded data removed]"
          },
          "metadata": {}
        }
      ]
    },
    {
      "cell_type": "markdown",
      "source": [
        "**Random Forest**"
      ],
      "metadata": {
        "id": "nDudp4OBFuKG"
      }
    },
    {
      "cell_type": "markdown",
      "source": [
        "Now that the PCA analysis has allowed for the removal of 4 predictor variables that do not contribute to the 0.95 variance threshold, consider the development of an ML model that can attempt to predict player rankings with some level of accuracy."
      ],
      "metadata": {
        "id": "bXcAkrnoKK8T"
      }
    },
    {
      "cell_type": "markdown",
      "source": [
        "Begin by importing and loading the necessary packages into the program. Thses packages include tools for Random Forest model development as well as visualization."
      ],
      "metadata": {
        "id": "HNtVDzFuKjZw"
      }
    },
    {
      "cell_type": "code",
      "source": [
        "from sklearn.ensemble import RandomForestRegressor\n",
        "from sklearn.ensemble import RandomForestClassifier\n",
        "from sklearn.model_selection import train_test_split\n",
        "from sklearn.metrics import mean_squared_error\n",
        "from sklearn.metrics import accuracy_score\n",
        "from sklearn.model_selection import validation_curve"
      ],
      "metadata": {
        "id": "N_Pc0OPaFwgH"
      },
      "execution_count": 16,
      "outputs": []
    },
    {
      "cell_type": "markdown",
      "source": [
        "Next, preprocess the dataframe being considered by removing two variables: Rank and GameID. These two variables can be considered the target variables (the variables to be predicted by others) (X). Secondly, create a new dataframe that contains only the Rank variable (Y). Following this, to find the ideal number of nodes that the Random Forest should utilize, create a validation curve which inputs the 'range_estimators' values and selects the node value that results in the lowest 'test_score_mean' - which for this data is 2000."
      ],
      "metadata": {
        "id": "P0NVxFb5KwGT"
      }
    },
    {
      "cell_type": "code",
      "source": [
        "X = starcraftdata.drop(columns=['Rank', 'GameID'], axis = 1)\n",
        "Y = starcraftdata['Rank']\n",
        "range_estimators = [100, 500, 1000, 2000]\n",
        "RFmodel = RandomForestRegressor(random_state=123)\n",
        "train_score, test_score = validation_curve(RFmodel, X, Y, param_name= 'n_estimators', param_range= range_estimators, cv=5, scoring='neg_mean_squared_error', n_jobs=-1)\n",
        "train_score_mean = -np.mean(train_score, axis=1)\n",
        "train_score_std = np.std(train_score, axis=1)\n",
        "test_score_mean = -np.mean(test_score, axis=1)\n",
        "test_score_std = np.std(test_score, axis=1)\n",
        "optimal_node_val = range_estimators[np.argmin(test_score_mean)]\n",
        "print('Optimal Node Value =', optimal_node_val)\n",
        "\n"
      ],
      "metadata": {
        "colab": {
          "base_uri": "https://localhost:8080/"
        },
        "id": "GexKileXF4TF",
        "outputId": "e12e38e4-47f0-49d3-d2ce-8a8c0cdb0d94"
      },
      "execution_count": 17,
      "outputs": [
        {
          "output_type": "stream",
          "name": "stdout",
          "text": [
            "Optimal Node Value = 2000\n"
          ]
        }
      ]
    },
    {
      "cell_type": "markdown",
      "source": [
        "Once the node value is found, split the newly created X, Y dataframes into testing and training pieces, with the Random Forest model using the former set to learn, and the latter set to test the accuracy. The variable y_pred contains the Random Forest's output for the training data, and y_pred is used to cross check against the true rankings stored in y_test."
      ],
      "metadata": {
        "id": "SzerJo1DMrGq"
      }
    },
    {
      "cell_type": "code",
      "source": [
        "X_train, X_test, y_train, y_test = train_test_split(X, Y, test_size = 0.2, random_state = 123)\n",
        "RFmodel = RandomForestRegressor(n_estimators=2000, random_state = 123)\n",
        "RFmodel.fit(X_train, y_train)\n",
        "y_pred = RFmodel.predict(X_test)\n",
        "y_pred_copy = X_test.copy()\n",
        "y_pred_copy['Rank Prediction'] = y_pred\n",
        "y_pred_copy = y_pred_copy.sort_values('Rank Prediction')\n",
        "print(y_pred_copy.head())\n"
      ],
      "metadata": {
        "colab": {
          "base_uri": "https://localhost:8080/"
        },
        "id": "qgedxCNH6s4J",
        "outputId": "6a6ca824-105e-472b-e474-a827c9e6e985"
      },
      "execution_count": 18,
      "outputs": [
        {
          "output_type": "stream",
          "name": "stdout",
          "text": [
            "      LeagueIndex Age HoursPerWeek TotalHours       APM  SelectByHotkeys  \\\n",
            "3196            4  17           16        400  120.9438         0.002848   \n",
            "2206            5  17           20        500  119.6562         0.001361   \n",
            "1238            3  22           10         90   43.3578         0.000245   \n",
            "1135            4  17            6        200   83.7276         0.000847   \n",
            "560             4  17           28        450  141.6522         0.002045   \n",
            "\n",
            "      AssignToHotkeys  UniqueHotkeys  MinimapAttacks  MinimapRightClicks  \\\n",
            "3196         0.000354              2        0.000230            0.001698   \n",
            "2206         0.000164              4        0.000009            0.001206   \n",
            "1238         0.000163              3        0.000054            0.000313   \n",
            "1135         0.000208              1        0.000032            0.000592   \n",
            "560          0.000543              6        0.000000            0.000703   \n",
            "\n",
            "      NumberOfPACs  GapBetweenPACs  ActionLatency  ActionsInPAC  \\\n",
            "3196      0.002724         40.8366        79.2468        7.4221   \n",
            "2206      0.002787         32.2632        65.8492        7.7770   \n",
            "1238      0.002950         62.7593        88.7373        2.7327   \n",
            "1135      0.003741         45.3562        58.9573        4.0299   \n",
            "560       0.003025         31.4629        64.1972        8.3310   \n",
            "\n",
            "      TotalMapExplored  WorkersMade  UniqueUnitsMade  ComplexUnitsMade  \\\n",
            "3196                19     0.001680                6               0.0   \n",
            "2206                33     0.001160                8               0.0   \n",
            "1238                15     0.000680                8               0.0   \n",
            "1135                18     0.000719                7               0.0   \n",
            "560                 21     0.002216                7               0.0   \n",
            "\n",
            "      ComplexAbilitiesUsed  Rank Prediction  \n",
            "3196              0.000000        1220.4425  \n",
            "2206              0.000000        1222.5095  \n",
            "1238              0.000000        1256.7460  \n",
            "1135              0.000112        1256.9790  \n",
            "560               0.000032        1285.3500  \n"
          ]
        }
      ]
    },
    {
      "cell_type": "markdown",
      "source": [
        "Finally, with y_pred and y_test being cross-checked, a visualization is produced which provides the importance of each predictor variable in the Random Forest model on the target variable. It is clear the most important predictor variable based on this model is WorkersMade, and the least influential predictor variable on the model is LeagueIndex. To observe the accuracy of the Random Forest model on the dataset, use the (.score()) function to output the accuracy of the Random Forest model (as a decimal - multiply by 100 to get as a percent) on both the training and testing data sets."
      ],
      "metadata": {
        "id": "sUvniRxDfWGz"
      }
    },
    {
      "cell_type": "code",
      "source": [
        "print(f'Model Training Accuracy: {RFmodel.score(X_train, y_train)}')\n",
        "print(f'Model Testing Accuracy: {RFmodel.score(X_test, y_test)}')\n",
        "important_features = RFmodel.feature_importances_\n",
        "indexsorted = important_features.argsort()[::-1]\n",
        "important_features_sorted = important_features[indexsorted]\n",
        "important_feature_names = X.columns[indexsorted]\n",
        "plt.figure(figsize=(10, 6))\n",
        "plt.bar(range(len(important_features_sorted)), important_features_sorted, tick_label=important_feature_names)\n",
        "plt.title('Feature Influence')\n",
        "plt.xticks(rotation=90)\n",
        "plt.xlabel('Feature')\n",
        "plt.ylabel('Importance')\n",
        "plt.tight_layout()\n",
        "plt.show()"
      ],
      "metadata": {
        "colab": {
          "base_uri": "https://localhost:8080/",
          "height": 643
        },
        "id": "bI6wFqCJYji6",
        "outputId": "37238230-305d-4aff-e6d9-fb3d5f85a73c"
      },
      "execution_count": 19,
      "outputs": [
        {
          "output_type": "stream",
          "name": "stdout",
          "text": [
            "Model Training Accuracy: 0.8652336594861256\n",
            "Model Testing Accuracy: 0.019158008349395073\n"
          ]
        },
        {
          "output_type": "display_data",
          "data": {
            "text/plain": [
              "<Figure size 1000x600 with 1 Axes>"
            ],
            "image/png": "[encoded data removed]"
          },
          "metadata": {}
        }
      ]
    },
    {
      "cell_type": "markdown",
      "source": [
        "**Results (Non-Technical)**"
      ],
      "metadata": {
        "id": "CmbhUEsLoiK4"
      }
    },
    {
      "cell_type": "markdown",
      "source": [
        "The Random Forest model that was developed on the starcraft data set is a self-learning model that takes in a subset of the original dataset as an input (training data), and uses the remaining data (testing data), to preddict the target variable. In the case of this data, the target variable (output), was the rank of the players. The Random Forest model predicts the rank of the players based on all the other columns of data provided. Finally, to test the validity of the model, its prediction output rankings are crosschecked against the actual rankings given by the testing data. The ratio of how many predictions match the actual rankings to the overall count of data provides the model accuracy. As such, the goal of this models is to increase said ratio to as close to 1 (100%) as possible - making it a viable model for the data. "
      ],
      "metadata": {
        "id": "V2n8dxxyonmq"
      }
    },
    {
      "cell_type": "markdown",
      "source": [
        "**Stakeholders (Further Data Collection)**"
      ],
      "metadata": {
        "id": "YEdOyO__rtGx"
      }
    },
    {
      "cell_type": "markdown",
      "source": [
        "After considering this model, if stakeholders mention that they can collect more data, there are some modifications that should be noted. To begin, the EDA and PCA analysis support the need for only 16 potential predictor variables, thus the 4 variables that were removed via PCA analysis do not need to be provided in the next set of data to be analyzed. Secondly, given that the resultant model was not accurate to a large extent, the stakeholders should provide a larger volume of data which would allow for a greater learning (training) set for the Random Forest model. If this volume of data is significant, the model will quickly pick up the learning rate, and thus the accuracy should immediately increase as well. Overall, the stakeholders should follow the format of data collection as done with the data that was used for this analysis, but with these minimal modifications, which will allow for a stronger and more robust ML model."
      ],
      "metadata": {
        "id": "mpYcdf71lnA3"
      }
    }
  ]
}